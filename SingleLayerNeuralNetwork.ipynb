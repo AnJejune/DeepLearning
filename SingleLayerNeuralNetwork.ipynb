{
  "nbformat": 4,
  "nbformat_minor": 0,
  "metadata": {
    "colab": {
      "name": "SingleLayerNeuralNetwork.ipynb",
      "provenance": [],
      "collapsed_sections": [],
      "authorship_tag": "ABX9TyPs4AKF1Ar8zma5FxXlE5qA",
      "include_colab_link": true
    },
    "kernelspec": {
      "name": "python3",
      "display_name": "Python 3"
    },
    "language_info": {
      "name": "python"
    }
  },
  "cells": [
    {
      "cell_type": "markdown",
      "metadata": {
        "id": "view-in-github",
        "colab_type": "text"
      },
      "source": [
        "<a href=\"https://colab.research.google.com/github/AnJejune/DeepLearning/blob/main/SingleLayerNeuralNetwork.ipynb\" target=\"_parent\"><img src=\"https://colab.research.google.com/assets/colab-badge.svg\" alt=\"Open In Colab\"/></a>"
      ]
    },
    {
      "cell_type": "markdown",
      "source": [
        "경사 하강법 :\n",
        "1. 확률적 경사 하강법 => 샘플 데이터 1개에 대한 그레이디언트를 계산       \n",
        "장점 : 샘플 데이터 1개마다 그레이디언트를 계산하여 가중치를 업데이트 하므로 비용이 적단.            \n",
        "단점 : 최적값에 수렴하는 과정이 불안정           \n",
        "2. 배치 경사 하강법 => 전체 훈련 세트를 사용하여 한 번에 그레이디언트를 계산   \n",
        "장점 : 최적값에 수렴하는 과정이 안정.                  \n",
        "단점 : 계산 비용이 많이 든다.        \n",
        "\n",
        "절충안 -> 미니 배치 경사 하강법 : 무작위로 일부만 가져와 배치 경사 하강법 적용 "
      ],
      "metadata": {
        "id": "mr5lFzw8LXKo"
      }
    },
    {
      "cell_type": "code",
      "source": [
        "import numpy as np\n",
        "import matplotlib.pyplot as plt\n",
        "from sklearn.datasets import load_breast_cancer\n",
        "from sklearn.model_selection import train_test_split"
      ],
      "metadata": {
        "id": "-N2SvE_sMrOc"
      },
      "execution_count": null,
      "outputs": []
    },
    {
      "cell_type": "code",
      "source": [
        "cancer = load_breast_cancer()\n",
        "x = cancer.data\n",
        "y = cancer.target\n",
        "x_train, x_test, y_train, y_test = train_test_split(x, y, stratify=y, test_size=0.2, random_state=42)"
      ],
      "metadata": {
        "id": "u8V7hJzxOtWe"
      },
      "execution_count": null,
      "outputs": []
    },
    {
      "cell_type": "code",
      "source": [
        "class SingleLayer:\n",
        "  def __init__(self): \n",
        "    self.w = None \n",
        "    self.b = None\n",
        "    self.losses = [] # 손실함수의 결과 값을 저장할 리스트\n",
        "\n",
        "  def forpass(self, x):\n",
        "    z = np.sum(x * self.w) + self.b     # 직선 방정식 계산\n",
        "    return z\n",
        "  \n",
        "  def backprop(self, x, err):\n",
        "    w_grad = x * err\n",
        "    b_grad = 1 * err\n",
        "    return w_grad, b_grad\n",
        "  \n",
        "  def fit(self, x, y, epochs=100):  \n",
        "    self.w = np.ones(x.shape[1]) \n",
        "    self.b = 0 \n",
        "    for i in range(epochs):\n",
        "      loss = 0\n",
        "      indexes = np.random.permutation(np.arange(len(x))) # 인덱스 섞기\n",
        "      for i in indexes:\n",
        "        z = self.forpass(x[i]) # 직선 방정식 적용( 정방향 계산 ) \n",
        "        a = self.activation(z) # 활성화 함수 적용\n",
        "        err = -(y[i] - a); # 오차계산 => 로지스틱 손실 함수 미분값 \n",
        "        w_grad, b_grad = self.backprop(x[i], err) # 역방향 계산\n",
        "        self.w -= w_grad\n",
        "        self.b -= b_grad\n",
        "        a = np.clip(a, 1e-10, 1-1e-10) # 안전한 로그 계산을 위해 클리핑 후 손실을 누적\n",
        "        loss += -(y[i]*np.log(a) + (1-y[i]) * np.log(1-a)) # 에포크마다 평균 손실을 저장\n",
        "      self.losses.append(loss/len(y))\n",
        "  \n",
        "  def activation(self, z): # 활성화 함수 구현 (z값은 np(배열)로 넘어옴)\n",
        "    z = np.clip(z, -100, None)\n",
        "    a = 1 / (1 + np.exp(-z)) # 시그모이드 함수\n",
        "    return a\n",
        "  \n",
        "  def predict(self, x): # 예측 메서드 구현\n",
        "    z = [self.forpass(x_i) for x_i in x] # 선형 함수 적용 \n",
        "    return np.array(z) > 0 # 스템 함수 적용\n",
        "    # z가 0보다 크면 시그모이드 함수의 출력값은 0.5보다 크고 작으면 0.5보다 작으므로 굳이 시그모이드 함수를 사용하지 않아도 된다.\n",
        "\n",
        "  def score(self, x, y): # 정확도 출력 \n",
        "    return np.mean(self.predict(x) ==  y)\n"
      ],
      "metadata": {
        "id": "5kzqCvesMmj5"
      },
      "execution_count": null,
      "outputs": []
    },
    {
      "cell_type": "code",
      "source": [
        "layer = SingleLayer()\n",
        "layer.fit(x_train, y_train)\n",
        "layer.score(x_test, y_test)"
      ],
      "metadata": {
        "colab": {
          "base_uri": "https://localhost:8080/"
        },
        "id": "WnVRBSM9OYoM",
        "outputId": "030d2fd8-4604-4b9a-dfd1-67c77ba67b2b"
      },
      "execution_count": null,
      "outputs": [
        {
          "output_type": "execute_result",
          "data": {
            "text/plain": [
              "0.9210526315789473"
            ]
          },
          "metadata": {},
          "execution_count": 24
        }
      ]
    },
    {
      "cell_type": "markdown",
      "source": [
        "정확도가 좋아진 이유 => 에포크마다 훈련 세트를 무작위로 섞어(indexes) 손실 함수의 값을 줄였기 때문"
      ],
      "metadata": {
        "id": "947Kz8XMPUsM"
      }
    },
    {
      "cell_type": "code",
      "source": [
        "plt.plot(layer.losses)\n",
        "plt.xlabel('epoch')\n",
        "plt.ylabel('loss')\n",
        "plt.show()"
      ],
      "metadata": {
        "colab": {
          "base_uri": "https://localhost:8080/",
          "height": 279
        },
        "id": "coUCSuhiO7C1",
        "outputId": "9e3776d5-49db-4660-b469-f4e94f53ffa5"
      },
      "execution_count": null,
      "outputs": [
        {
          "output_type": "display_data",
          "data": {
            "image/png": "[encoded data removed]",
            "text/plain": [
              "<Figure size 432x288 with 1 Axes>"
            ]
          },
          "metadata": {
            "needs_background": "light"
          }
        }
      ]
    },
    {
      "cell_type": "markdown",
      "source": [
        "에포크가 진행함에 따라 손실 함수의 값이 감소함.           \n",
        "신경망 알고리즘은 로지스틱 회귀 알고리즘을 확장한 네트워크 아직 은닉충 X"
      ],
      "metadata": {
        "id": "h5sNQ2NJP472"
      }
    },
    {
      "cell_type": "code",
      "source": [
        ""
      ],
      "metadata": {
        "id": "4h3tg6ekQNMh"
      },
      "execution_count": null,
      "outputs": []
    },
    {
      "cell_type": "code",
      "source": [
        ""
      ],
      "metadata": {
        "id": "IxgHz7f0QNOr"
      },
      "execution_count": null,
      "outputs": []
    },
    {
      "cell_type": "code",
      "source": [
        ""
      ],
      "metadata": {
        "id": "40POgF3nQNRF"
      },
      "execution_count": null,
      "outputs": []
    },
    {
      "cell_type": "markdown",
      "source": [
        "사이킷런으로 로지스틱 회귀"
      ],
      "metadata": {
        "id": "FaPCRzgtQN03"
      }
    },
    {
      "cell_type": "code",
      "source": [
        "from sklearn.linear_model import SGDClassifier\n",
        "sgd = SGDClassifier(loss='log', max_iter = 100, tol=1e-3, random_state = 42)\n",
        "# loss(손실 함수) = log\n",
        "# max_iter(반복 횟수) = 100\n",
        "# tol(반복할 때마다 로지스틱 손실 함수의 값이 tol에 지정한 값만큼 감소되 않으면 반복 중단) = 1e-3"
      ],
      "metadata": {
        "id": "s2Qw0gqBQRU4"
      },
      "execution_count": null,
      "outputs": []
    },
    {
      "cell_type": "code",
      "source": [
        "sgd.fit(x_train, y_train)\n",
        "sgd.score(x_test, y_test)"
      ],
      "metadata": {
        "colab": {
          "base_uri": "https://localhost:8080/"
        },
        "id": "iOO6Lw3mQkt0",
        "outputId": "3a811d24-c7c8-4444-bfd1-1f01794da2eb"
      },
      "execution_count": null,
      "outputs": [
        {
          "output_type": "execute_result",
          "data": {
            "text/plain": [
              "0.8333333333333334"
            ]
          },
          "metadata": {},
          "execution_count": 29
        }
      ]
    },
    {
      "cell_type": "code",
      "source": [
        "sgd.predict(x_test[0:10]) # 사이킷런을 이용한 샘플 10개 예측 "
      ],
      "metadata": {
        "colab": {
          "base_uri": "https://localhost:8080/"
        },
        "id": "Pb6buHn0RIv9",
        "outputId": "12182b4d-449e-4e24-dd21-cc32339b64a6"
      },
      "execution_count": null,
      "outputs": [
        {
          "output_type": "execute_result",
          "data": {
            "text/plain": [
              "array([0, 1, 0, 0, 0, 0, 1, 0, 0, 0])"
            ]
          },
          "metadata": {},
          "execution_count": 30
        }
      ]
    },
    {
      "cell_type": "code",
      "source": [
        ""
      ],
      "metadata": {
        "id": "lyO7ZbJbRVhu"
      },
      "execution_count": null,
      "outputs": []
    }
  ]
}